{
  "nbformat": 4,
  "nbformat_minor": 0,
  "metadata": {
    "colab": {
      "provenance": []
    },
    "kernelspec": {
      "name": "python3",
      "display_name": "Python 3"
    },
    "language_info": {
      "name": "python"
    }
  },
  "cells": [
    {
      "cell_type": "code",
      "execution_count": null,
      "metadata": {
        "colab": {
          "base_uri": "https://localhost:8080/"
        },
        "id": "88_9EbQefokL",
        "outputId": "7d539925-85e9-4f38-e009-0bc3a05020c2"
      },
      "outputs": [
        {
          "output_type": "stream",
          "name": "stdout",
          "text": [
            "Requirement already satisfied: openai in /usr/local/lib/python3.11/dist-packages (1.59.9)\n",
            "Requirement already satisfied: pandas in /usr/local/lib/python3.11/dist-packages (2.2.2)\n",
            "Requirement already satisfied: transformers in /usr/local/lib/python3.11/dist-packages (4.47.1)\n",
            "Requirement already satisfied: python-docx in /usr/local/lib/python3.11/dist-packages (1.1.2)\n",
            "Requirement already satisfied: tqdm in /usr/local/lib/python3.11/dist-packages (4.67.1)\n",
            "Requirement already satisfied: torch in /usr/local/lib/python3.11/dist-packages (2.5.1+cu124)\n",
            "Requirement already satisfied: anyio<5,>=3.5.0 in /usr/local/lib/python3.11/dist-packages (from openai) (3.7.1)\n",
            "Requirement already satisfied: distro<2,>=1.7.0 in /usr/local/lib/python3.11/dist-packages (from openai) (1.9.0)\n",
            "Requirement already satisfied: httpx<1,>=0.23.0 in /usr/local/lib/python3.11/dist-packages (from openai) (0.28.1)\n",
            "Requirement already satisfied: jiter<1,>=0.4.0 in /usr/local/lib/python3.11/dist-packages (from openai) (0.8.2)\n",
            "Requirement already satisfied: pydantic<3,>=1.9.0 in /usr/local/lib/python3.11/dist-packages (from openai) (2.10.6)\n",
            "Requirement already satisfied: sniffio in /usr/local/lib/python3.11/dist-packages (from openai) (1.3.1)\n",
            "Requirement already satisfied: typing-extensions<5,>=4.11 in /usr/local/lib/python3.11/dist-packages (from openai) (4.12.2)\n",
            "Requirement already satisfied: numpy>=1.23.2 in /usr/local/lib/python3.11/dist-packages (from pandas) (1.26.4)\n",
            "Requirement already satisfied: python-dateutil>=2.8.2 in /usr/local/lib/python3.11/dist-packages (from pandas) (2.8.2)\n",
            "Requirement already satisfied: pytz>=2020.1 in /usr/local/lib/python3.11/dist-packages (from pandas) (2024.2)\n",
            "Requirement already satisfied: tzdata>=2022.7 in /usr/local/lib/python3.11/dist-packages (from pandas) (2025.1)\n",
            "Requirement already satisfied: filelock in /usr/local/lib/python3.11/dist-packages (from transformers) (3.17.0)\n",
            "Requirement already satisfied: huggingface-hub<1.0,>=0.24.0 in /usr/local/lib/python3.11/dist-packages (from transformers) (0.27.1)\n",
            "Requirement already satisfied: packaging>=20.0 in /usr/local/lib/python3.11/dist-packages (from transformers) (24.2)\n",
            "Requirement already satisfied: pyyaml>=5.1 in /usr/local/lib/python3.11/dist-packages (from transformers) (6.0.2)\n",
            "Requirement already satisfied: regex!=2019.12.17 in /usr/local/lib/python3.11/dist-packages (from transformers) (2024.11.6)\n",
            "Requirement already satisfied: requests in /usr/local/lib/python3.11/dist-packages (from transformers) (2.32.3)\n",
            "Requirement already satisfied: tokenizers<0.22,>=0.21 in /usr/local/lib/python3.11/dist-packages (from transformers) (0.21.0)\n",
            "Requirement already satisfied: safetensors>=0.4.1 in /usr/local/lib/python3.11/dist-packages (from transformers) (0.5.2)\n",
            "Requirement already satisfied: lxml>=3.1.0 in /usr/local/lib/python3.11/dist-packages (from python-docx) (5.3.0)\n",
            "Requirement already satisfied: networkx in /usr/local/lib/python3.11/dist-packages (from torch) (3.4.2)\n",
            "Requirement already satisfied: jinja2 in /usr/local/lib/python3.11/dist-packages (from torch) (3.1.5)\n",
            "Requirement already satisfied: fsspec in /usr/local/lib/python3.11/dist-packages (from torch) (2024.10.0)\n",
            "Requirement already satisfied: nvidia-cuda-nvrtc-cu12==12.4.127 in /usr/local/lib/python3.11/dist-packages (from torch) (12.4.127)\n",
            "Requirement already satisfied: nvidia-cuda-runtime-cu12==12.4.127 in /usr/local/lib/python3.11/dist-packages (from torch) (12.4.127)\n",
            "Requirement already satisfied: nvidia-cuda-cupti-cu12==12.4.127 in /usr/local/lib/python3.11/dist-packages (from torch) (12.4.127)\n",
            "Requirement already satisfied: nvidia-cudnn-cu12==9.1.0.70 in /usr/local/lib/python3.11/dist-packages (from torch) (9.1.0.70)\n",
            "Requirement already satisfied: nvidia-cublas-cu12==12.4.5.8 in /usr/local/lib/python3.11/dist-packages (from torch) (12.4.5.8)\n",
            "Requirement already satisfied: nvidia-cufft-cu12==11.2.1.3 in /usr/local/lib/python3.11/dist-packages (from torch) (11.2.1.3)\n",
            "Requirement already satisfied: nvidia-curand-cu12==10.3.5.147 in /usr/local/lib/python3.11/dist-packages (from torch) (10.3.5.147)\n",
            "Requirement already satisfied: nvidia-cusolver-cu12==11.6.1.9 in /usr/local/lib/python3.11/dist-packages (from torch) (11.6.1.9)\n",
            "Requirement already satisfied: nvidia-cusparse-cu12==12.3.1.170 in /usr/local/lib/python3.11/dist-packages (from torch) (12.3.1.170)\n",
            "Requirement already satisfied: nvidia-nccl-cu12==2.21.5 in /usr/local/lib/python3.11/dist-packages (from torch) (2.21.5)\n",
            "Requirement already satisfied: nvidia-nvtx-cu12==12.4.127 in /usr/local/lib/python3.11/dist-packages (from torch) (12.4.127)\n",
            "Requirement already satisfied: nvidia-nvjitlink-cu12==12.4.127 in /usr/local/lib/python3.11/dist-packages (from torch) (12.4.127)\n",
            "Requirement already satisfied: triton==3.1.0 in /usr/local/lib/python3.11/dist-packages (from torch) (3.1.0)\n",
            "Requirement already satisfied: sympy==1.13.1 in /usr/local/lib/python3.11/dist-packages (from torch) (1.13.1)\n",
            "Requirement already satisfied: mpmath<1.4,>=1.1.0 in /usr/local/lib/python3.11/dist-packages (from sympy==1.13.1->torch) (1.3.0)\n",
            "Requirement already satisfied: idna>=2.8 in /usr/local/lib/python3.11/dist-packages (from anyio<5,>=3.5.0->openai) (3.10)\n",
            "Requirement already satisfied: certifi in /usr/local/lib/python3.11/dist-packages (from httpx<1,>=0.23.0->openai) (2024.12.14)\n",
            "Requirement already satisfied: httpcore==1.* in /usr/local/lib/python3.11/dist-packages (from httpx<1,>=0.23.0->openai) (1.0.7)\n",
            "Requirement already satisfied: h11<0.15,>=0.13 in /usr/local/lib/python3.11/dist-packages (from httpcore==1.*->httpx<1,>=0.23.0->openai) (0.14.0)\n",
            "Requirement already satisfied: annotated-types>=0.6.0 in /usr/local/lib/python3.11/dist-packages (from pydantic<3,>=1.9.0->openai) (0.7.0)\n",
            "Requirement already satisfied: pydantic-core==2.27.2 in /usr/local/lib/python3.11/dist-packages (from pydantic<3,>=1.9.0->openai) (2.27.2)\n",
            "Requirement already satisfied: six>=1.5 in /usr/local/lib/python3.11/dist-packages (from python-dateutil>=2.8.2->pandas) (1.17.0)\n",
            "Requirement already satisfied: MarkupSafe>=2.0 in /usr/local/lib/python3.11/dist-packages (from jinja2->torch) (3.0.2)\n",
            "Requirement already satisfied: charset-normalizer<4,>=2 in /usr/local/lib/python3.11/dist-packages (from requests->transformers) (3.4.1)\n",
            "Requirement already satisfied: urllib3<3,>=1.21.1 in /usr/local/lib/python3.11/dist-packages (from requests->transformers) (2.3.0)\n"
          ]
        }
      ],
      "source": [
        "# Install required libraries\n",
        "!pip install openai pandas transformers python-docx tqdm torch"
      ]
    },
    {
      "cell_type": "code",
      "source": [
        "import os\n",
        "import pandas as pd\n",
        "from docx import Document\n",
        "import openai\n",
        "from transformers import pipeline\n",
        "from google.colab import drive\n",
        "from tqdm import tqdm"
      ],
      "metadata": {
        "id": "efjFyeEzgFWF"
      },
      "execution_count": null,
      "outputs": []
    },
    {
      "cell_type": "code",
      "source": [
        "# Mount Google Drive\n",
        "drive.mount('/content/drive')"
      ],
      "metadata": {
        "colab": {
          "base_uri": "https://localhost:8080/"
        },
        "id": "Jm3NeUxzgIBk",
        "outputId": "fe68fd2e-e22c-467e-fc92-581493e42e34"
      },
      "execution_count": null,
      "outputs": [
        {
          "output_type": "stream",
          "name": "stdout",
          "text": [
            "Drive already mounted at /content/drive; to attempt to forcibly remount, call drive.mount(\"/content/drive\", force_remount=True).\n"
          ]
        }
      ]
    },
    {
      "cell_type": "code",
      "source": [
        "# Set OpenAI API key (Replace 'your-api-key' with your actual key)\n",
        "client = openai.OpenAI(api_key=\"\")  # Replace with your API key"
      ],
      "metadata": {
        "id": "MpHeJZ5W5sbS"
      },
      "execution_count": null,
      "outputs": []
    },
    {
      "cell_type": "code",
      "source": [
        "# Load sentiment analysis model\n",
        "sentiment_analyzer = pipeline(\"sentiment-analysis\", model=\"cardiffnlp/twitter-roberta-base-sentiment\")"
      ],
      "metadata": {
        "colab": {
          "base_uri": "https://localhost:8080/"
        },
        "id": "iJD17agL6KHj",
        "outputId": "36bca298-f08d-4e81-d314-0a321ffeae10"
      },
      "execution_count": null,
      "outputs": [
        {
          "output_type": "stream",
          "name": "stderr",
          "text": [
            "Device set to use cpu\n"
          ]
        }
      ]
    },
    {
      "cell_type": "code",
      "source": [
        "# Load NLP models\n",
        "#summarizer = pipeline(\"summarization\", model=\"google/bigbird-pegasus-large-arxiv\")  # BigBird for long texts\n",
        "#sentiment_analyzer = pipeline(\"sentiment-analysis\", model=\"cardiffnlp/twitter-roberta-base-sentiment\")\n",
        "#tokenizer = AutoTokenizer.from_pretrained(\"google/bigbird-pegasus-large-arxiv\")  # Tokenizer for counting tokens"
      ],
      "metadata": {
        "id": "DNFiQyOYgLTU"
      },
      "execution_count": null,
      "outputs": []
    },
    {
      "cell_type": "code",
      "source": [
        "# Define interviews folder in Drive\n",
        "interviews_folder = \"/content/drive/MyDrive/alaska_vaccine_project/interviews\""
      ],
      "metadata": {
        "id": "X93SNUhLgOeT"
      },
      "execution_count": null,
      "outputs": []
    },
    {
      "cell_type": "code",
      "source": [
        "# Function to extract text from a Word document\n",
        "def extract_text_from_docx(file_path):\n",
        "    doc = Document(file_path)\n",
        "    text = \"\\n\".join([para.text for para in doc.paragraphs]).strip()\n",
        "    return text if text else None  # Return None if empty"
      ],
      "metadata": {
        "id": "0P5HiOjliK7g"
      },
      "execution_count": null,
      "outputs": []
    },
    {
      "cell_type": "code",
      "source": [
        "# Function to summarize text using GPT-4\n",
        "def summarize_with_gpt4(text):\n",
        "    try:\n",
        "        response = client.chat.completions.create(\n",
        "            model=\"gpt-4-turbo\",  # Use GPT-4 Turbo for cost efficiency\n",
        "            messages=[\n",
        "                {\"role\": \"system\", \"content\": \"Summarize the following interview concisely, highlighting key points.\"},\n",
        "                {\"role\": \"user\", \"content\": text}\n",
        "            ],\n",
        "            temperature=0.3,  # Keep summaries consistent\n",
        "            max_tokens=500  # Adjust summary length\n",
        "        )\n",
        "        return response.choices[0].message.content  # Extract GPT-4 response\n",
        "    except Exception as e:\n",
        "        print(f\"⚠️ GPT-4 Error: {e}\")\n",
        "        return \"Error in summarization\"\n"
      ],
      "metadata": {
        "id": "D81aKOK2ntc0"
      },
      "execution_count": null,
      "outputs": []
    },
    {
      "cell_type": "code",
      "source": [
        "# Function to analyze sentiment of the summary\n",
        "def analyze_sentiment(text):\n",
        "    try:\n",
        "        return sentiment_analyzer(text)[0][\"label\"]\n",
        "    except Exception as e:\n",
        "        print(f\"⚠️ Sentiment analysis error: {e}\")\n",
        "        return \"Unknown\""
      ],
      "metadata": {
        "id": "ITHLJWD1mWbO"
      },
      "execution_count": null,
      "outputs": []
    },
    {
      "cell_type": "code",
      "source": [
        "# Function to process all interviews with a progress bar\n",
        "def analyze_interviews(folder_path):\n",
        "    results = []\n",
        "    files = [f for f in os.listdir(folder_path) if f.endswith(\".docx\")]  # List all docx files\n",
        "\n",
        "    for filename in tqdm(files, desc=\"Processing Interviews\", unit=\"file\"):\n",
        "        file_path = os.path.join(folder_path, filename)\n",
        "        text = extract_text_from_docx(file_path)\n",
        "\n",
        "        if text is None:\n",
        "            print(f\"⚠️ Skipping empty document: {filename}\")\n",
        "            continue\n",
        "\n",
        "        # Summarize using GPT-4\n",
        "        summary = summarize_with_gpt4(text)\n",
        "\n",
        "        # Perform sentiment analysis on the summary\n",
        "        sentiment = analyze_sentiment(summary)\n",
        "\n",
        "        results.append({\n",
        "            \"Interview_File\": filename,\n",
        "            \"Summary\": summary,\n",
        "            \"Sentiment\": sentiment\n",
        "        })\n",
        "\n",
        "    return pd.DataFrame(results)"
      ],
      "metadata": {
        "id": "qtzldEffiPGG"
      },
      "execution_count": null,
      "outputs": []
    },
    {
      "cell_type": "code",
      "source": [
        "# Run script\n",
        "df = analyze_interviews(interviews_folder)\n",
        "\n",
        "# Save results to Drive\n",
        "output_path = \"/content/drive/MyDrive/alaska_vaccine_project/interview_sentiments.csv\"\n",
        "df.to_csv(output_path, index=False)\n",
        "print(f\"✅ Analysis complete. Results saved to: {output_path}\")\n",
        "\n",
        "# Show first few rows\n",
        "df.head()"
      ],
      "metadata": {
        "colab": {
          "base_uri": "https://localhost:8080/",
          "height": 278
        },
        "id": "tgx3F_eUiSoP",
        "outputId": "d476fab8-1336-4fcd-ba1e-6a289d656110"
      },
      "execution_count": null,
      "outputs": [
        {
          "output_type": "stream",
          "name": "stderr",
          "text": [
            "Processing Interviews:  66%|██████▌   | 57/87 [10:48<06:39, 13.32s/file]"
          ]
        },
        {
          "output_type": "stream",
          "name": "stdout",
          "text": [
            "⚠️ Sentiment analysis error: The expanded size of the tensor (523) must match the existing size (514) at non-singleton dimension 1.  Target sizes: [1, 523].  Tensor sizes: [1, 514]\n"
          ]
        },
        {
          "output_type": "stream",
          "name": "stderr",
          "text": [
            "Processing Interviews: 100%|██████████| 87/87 [17:01<00:00, 11.74s/file]"
          ]
        },
        {
          "output_type": "stream",
          "name": "stdout",
          "text": [
            "✅ Analysis complete. Results saved to: /content/drive/MyDrive/alaska_vaccine_project/interview_sentiments.csv\n"
          ]
        },
        {
          "output_type": "stream",
          "name": "stderr",
          "text": [
            "\n"
          ]
        },
        {
          "output_type": "execute_result",
          "data": {
            "text/plain": [
              "          Interview_File                                            Summary  \\\n",
              "0  Anthony van Weel.docx  Anthony van Weel, a 21-year-old software devel...   \n",
              "1           Brenton.docx  Brent Strickland, a 50-year-old who works at t...   \n",
              "2      Bryan thomas.docx  The interview with Bryan Thomas, a 50-year-old...   \n",
              "3            Gloria.docx  The interview primarily discusses the impact o...   \n",
              "4             Fadwa.docx  In the interview, Fadwa, a 53-year-old student...   \n",
              "\n",
              "  Sentiment  \n",
              "0   LABEL_1  \n",
              "1   LABEL_2  \n",
              "2   LABEL_1  \n",
              "3   LABEL_1  \n",
              "4   LABEL_1  "
            ],
            "text/html": [
              "\n",
              "  <div id=\"df-b37ca416-1891-4c77-aa95-5971b0c78f4a\" class=\"colab-df-container\">\n",
              "    <div>\n",
              "<style scoped>\n",
              "    .dataframe tbody tr th:only-of-type {\n",
              "        vertical-align: middle;\n",
              "    }\n",
              "\n",
              "    .dataframe tbody tr th {\n",
              "        vertical-align: top;\n",
              "    }\n",
              "\n",
              "    .dataframe thead th {\n",
              "        text-align: right;\n",
              "    }\n",
              "</style>\n",
              "<table border=\"1\" class=\"dataframe\">\n",
              "  <thead>\n",
              "    <tr style=\"text-align: right;\">\n",
              "      <th></th>\n",
              "      <th>Interview_File</th>\n",
              "      <th>Summary</th>\n",
              "      <th>Sentiment</th>\n",
              "    </tr>\n",
              "  </thead>\n",
              "  <tbody>\n",
              "    <tr>\n",
              "      <th>0</th>\n",
              "      <td>Anthony van Weel.docx</td>\n",
              "      <td>Anthony van Weel, a 21-year-old software devel...</td>\n",
              "      <td>LABEL_1</td>\n",
              "    </tr>\n",
              "    <tr>\n",
              "      <th>1</th>\n",
              "      <td>Brenton.docx</td>\n",
              "      <td>Brent Strickland, a 50-year-old who works at t...</td>\n",
              "      <td>LABEL_2</td>\n",
              "    </tr>\n",
              "    <tr>\n",
              "      <th>2</th>\n",
              "      <td>Bryan thomas.docx</td>\n",
              "      <td>The interview with Bryan Thomas, a 50-year-old...</td>\n",
              "      <td>LABEL_1</td>\n",
              "    </tr>\n",
              "    <tr>\n",
              "      <th>3</th>\n",
              "      <td>Gloria.docx</td>\n",
              "      <td>The interview primarily discusses the impact o...</td>\n",
              "      <td>LABEL_1</td>\n",
              "    </tr>\n",
              "    <tr>\n",
              "      <th>4</th>\n",
              "      <td>Fadwa.docx</td>\n",
              "      <td>In the interview, Fadwa, a 53-year-old student...</td>\n",
              "      <td>LABEL_1</td>\n",
              "    </tr>\n",
              "  </tbody>\n",
              "</table>\n",
              "</div>\n",
              "    <div class=\"colab-df-buttons\">\n",
              "\n",
              "  <div class=\"colab-df-container\">\n",
              "    <button class=\"colab-df-convert\" onclick=\"convertToInteractive('df-b37ca416-1891-4c77-aa95-5971b0c78f4a')\"\n",
              "            title=\"Convert this dataframe to an interactive table.\"\n",
              "            style=\"display:none;\">\n",
              "\n",
              "  <svg xmlns=\"http://www.w3.org/2000/svg\" height=\"24px\" viewBox=\"0 -960 960 960\">\n",
              "    <path d=\"M120-120v-720h720v720H120Zm60-500h600v-160H180v160Zm220 220h160v-160H400v160Zm0 220h160v-160H400v160ZM180-400h160v-160H180v160Zm440 0h160v-160H620v160ZM180-180h160v-160H180v160Zm440 0h160v-160H620v160Z\"/>\n",
              "  </svg>\n",
              "    </button>\n",
              "\n",
              "  <style>\n",
              "    .colab-df-container {\n",
              "      display:flex;\n",
              "      gap: 12px;\n",
              "    }\n",
              "\n",
              "    .colab-df-convert {\n",
              "      background-color: #E8F0FE;\n",
              "      border: none;\n",
              "      border-radius: 50%;\n",
              "      cursor: pointer;\n",
              "      display: none;\n",
              "      fill: #1967D2;\n",
              "      height: 32px;\n",
              "      padding: 0 0 0 0;\n",
              "      width: 32px;\n",
              "    }\n",
              "\n",
              "    .colab-df-convert:hover {\n",
              "      background-color: #E2EBFA;\n",
              "      box-shadow: 0px 1px 2px rgba(60, 64, 67, 0.3), 0px 1px 3px 1px rgba(60, 64, 67, 0.15);\n",
              "      fill: #174EA6;\n",
              "    }\n",
              "\n",
              "    .colab-df-buttons div {\n",
              "      margin-bottom: 4px;\n",
              "    }\n",
              "\n",
              "    [theme=dark] .colab-df-convert {\n",
              "      background-color: #3B4455;\n",
              "      fill: #D2E3FC;\n",
              "    }\n",
              "\n",
              "    [theme=dark] .colab-df-convert:hover {\n",
              "      background-color: #434B5C;\n",
              "      box-shadow: 0px 1px 3px 1px rgba(0, 0, 0, 0.15);\n",
              "      filter: drop-shadow(0px 1px 2px rgba(0, 0, 0, 0.3));\n",
              "      fill: #FFFFFF;\n",
              "    }\n",
              "  </style>\n",
              "\n",
              "    <script>\n",
              "      const buttonEl =\n",
              "        document.querySelector('#df-b37ca416-1891-4c77-aa95-5971b0c78f4a button.colab-df-convert');\n",
              "      buttonEl.style.display =\n",
              "        google.colab.kernel.accessAllowed ? 'block' : 'none';\n",
              "\n",
              "      async function convertToInteractive(key) {\n",
              "        const element = document.querySelector('#df-b37ca416-1891-4c77-aa95-5971b0c78f4a');\n",
              "        const dataTable =\n",
              "          await google.colab.kernel.invokeFunction('convertToInteractive',\n",
              "                                                    [key], {});\n",
              "        if (!dataTable) return;\n",
              "\n",
              "        const docLinkHtml = 'Like what you see? Visit the ' +\n",
              "          '<a target=\"_blank\" href=https://colab.research.google.com/notebooks/data_table.ipynb>data table notebook</a>'\n",
              "          + ' to learn more about interactive tables.';\n",
              "        element.innerHTML = '';\n",
              "        dataTable['output_type'] = 'display_data';\n",
              "        await google.colab.output.renderOutput(dataTable, element);\n",
              "        const docLink = document.createElement('div');\n",
              "        docLink.innerHTML = docLinkHtml;\n",
              "        element.appendChild(docLink);\n",
              "      }\n",
              "    </script>\n",
              "  </div>\n",
              "\n",
              "\n",
              "<div id=\"df-da66a279-141c-4a08-9f91-36cc8b57b481\">\n",
              "  <button class=\"colab-df-quickchart\" onclick=\"quickchart('df-da66a279-141c-4a08-9f91-36cc8b57b481')\"\n",
              "            title=\"Suggest charts\"\n",
              "            style=\"display:none;\">\n",
              "\n",
              "<svg xmlns=\"http://www.w3.org/2000/svg\" height=\"24px\"viewBox=\"0 0 24 24\"\n",
              "     width=\"24px\">\n",
              "    <g>\n",
              "        <path d=\"M19 3H5c-1.1 0-2 .9-2 2v14c0 1.1.9 2 2 2h14c1.1 0 2-.9 2-2V5c0-1.1-.9-2-2-2zM9 17H7v-7h2v7zm4 0h-2V7h2v10zm4 0h-2v-4h2v4z\"/>\n",
              "    </g>\n",
              "</svg>\n",
              "  </button>\n",
              "\n",
              "<style>\n",
              "  .colab-df-quickchart {\n",
              "      --bg-color: #E8F0FE;\n",
              "      --fill-color: #1967D2;\n",
              "      --hover-bg-color: #E2EBFA;\n",
              "      --hover-fill-color: #174EA6;\n",
              "      --disabled-fill-color: #AAA;\n",
              "      --disabled-bg-color: #DDD;\n",
              "  }\n",
              "\n",
              "  [theme=dark] .colab-df-quickchart {\n",
              "      --bg-color: #3B4455;\n",
              "      --fill-color: #D2E3FC;\n",
              "      --hover-bg-color: #434B5C;\n",
              "      --hover-fill-color: #FFFFFF;\n",
              "      --disabled-bg-color: #3B4455;\n",
              "      --disabled-fill-color: #666;\n",
              "  }\n",
              "\n",
              "  .colab-df-quickchart {\n",
              "    background-color: var(--bg-color);\n",
              "    border: none;\n",
              "    border-radius: 50%;\n",
              "    cursor: pointer;\n",
              "    display: none;\n",
              "    fill: var(--fill-color);\n",
              "    height: 32px;\n",
              "    padding: 0;\n",
              "    width: 32px;\n",
              "  }\n",
              "\n",
              "  .colab-df-quickchart:hover {\n",
              "    background-color: var(--hover-bg-color);\n",
              "    box-shadow: 0 1px 2px rgba(60, 64, 67, 0.3), 0 1px 3px 1px rgba(60, 64, 67, 0.15);\n",
              "    fill: var(--button-hover-fill-color);\n",
              "  }\n",
              "\n",
              "  .colab-df-quickchart-complete:disabled,\n",
              "  .colab-df-quickchart-complete:disabled:hover {\n",
              "    background-color: var(--disabled-bg-color);\n",
              "    fill: var(--disabled-fill-color);\n",
              "    box-shadow: none;\n",
              "  }\n",
              "\n",
              "  .colab-df-spinner {\n",
              "    border: 2px solid var(--fill-color);\n",
              "    border-color: transparent;\n",
              "    border-bottom-color: var(--fill-color);\n",
              "    animation:\n",
              "      spin 1s steps(1) infinite;\n",
              "  }\n",
              "\n",
              "  @keyframes spin {\n",
              "    0% {\n",
              "      border-color: transparent;\n",
              "      border-bottom-color: var(--fill-color);\n",
              "      border-left-color: var(--fill-color);\n",
              "    }\n",
              "    20% {\n",
              "      border-color: transparent;\n",
              "      border-left-color: var(--fill-color);\n",
              "      border-top-color: var(--fill-color);\n",
              "    }\n",
              "    30% {\n",
              "      border-color: transparent;\n",
              "      border-left-color: var(--fill-color);\n",
              "      border-top-color: var(--fill-color);\n",
              "      border-right-color: var(--fill-color);\n",
              "    }\n",
              "    40% {\n",
              "      border-color: transparent;\n",
              "      border-right-color: var(--fill-color);\n",
              "      border-top-color: var(--fill-color);\n",
              "    }\n",
              "    60% {\n",
              "      border-color: transparent;\n",
              "      border-right-color: var(--fill-color);\n",
              "    }\n",
              "    80% {\n",
              "      border-color: transparent;\n",
              "      border-right-color: var(--fill-color);\n",
              "      border-bottom-color: var(--fill-color);\n",
              "    }\n",
              "    90% {\n",
              "      border-color: transparent;\n",
              "      border-bottom-color: var(--fill-color);\n",
              "    }\n",
              "  }\n",
              "</style>\n",
              "\n",
              "  <script>\n",
              "    async function quickchart(key) {\n",
              "      const quickchartButtonEl =\n",
              "        document.querySelector('#' + key + ' button');\n",
              "      quickchartButtonEl.disabled = true;  // To prevent multiple clicks.\n",
              "      quickchartButtonEl.classList.add('colab-df-spinner');\n",
              "      try {\n",
              "        const charts = await google.colab.kernel.invokeFunction(\n",
              "            'suggestCharts', [key], {});\n",
              "      } catch (error) {\n",
              "        console.error('Error during call to suggestCharts:', error);\n",
              "      }\n",
              "      quickchartButtonEl.classList.remove('colab-df-spinner');\n",
              "      quickchartButtonEl.classList.add('colab-df-quickchart-complete');\n",
              "    }\n",
              "    (() => {\n",
              "      let quickchartButtonEl =\n",
              "        document.querySelector('#df-da66a279-141c-4a08-9f91-36cc8b57b481 button');\n",
              "      quickchartButtonEl.style.display =\n",
              "        google.colab.kernel.accessAllowed ? 'block' : 'none';\n",
              "    })();\n",
              "  </script>\n",
              "</div>\n",
              "\n",
              "    </div>\n",
              "  </div>\n"
            ],
            "application/vnd.google.colaboratory.intrinsic+json": {
              "type": "dataframe",
              "variable_name": "df",
              "summary": "{\n  \"name\": \"df\",\n  \"rows\": 87,\n  \"fields\": [\n    {\n      \"column\": \"Interview_File\",\n      \"properties\": {\n        \"dtype\": \"string\",\n        \"num_unique_values\": 87,\n        \"samples\": [\n          \"907-299-1456.docx\",\n          \"Anthony van Weel.docx\",\n          \"audio1435346616.docx\"\n        ],\n        \"semantic_type\": \"\",\n        \"description\": \"\"\n      }\n    },\n    {\n      \"column\": \"Summary\",\n      \"properties\": {\n        \"dtype\": \"string\",\n        \"num_unique_values\": 87,\n        \"samples\": [\n          \"The interview focused on vaccine hesitancy, particularly in relation to COVID-19, in remote areas like Alaska. David Taylor, a pastor from Homer, AK, shared his personal decision against getting vaccinated due to concerns about the vaccine's rapid development and changing government statements. He also expressed general skepticism towards vaccines, noting he does not usually participate in annual flu vaccinations either.\\n\\nTaylor discussed his reliance on a broad range of information sources, including social media, podcasts, news, emails, and personal discussions, to avoid cognitive bias. Despite his decision against vaccination, he acknowledged receiving advice from medical professionals and noted mixed vaccination decisions within his family and community.\\n\\nThe interview also touched on the high cost and limited competition in healthcare services in Alaska, which Taylor believes affects trust and credibility in local healthcare providers. He argued against expanding local healthcare infrastructure due to financial inefficiencies and expressed a preference for community-based trust-building activities over infrastructure development.\\n\\nTaylor suggested that in remote and tribal communities, culturally relevant figures (like educated members from the same community) might be more effective in addressing health issues than external experts. He also shared insights on the broader challenges of providing healthcare in remote areas, emphasizing the economic and logistical constraints that limit access to medical services.\\n\\nOverall, the interview highlighted personal and community-level concerns about vaccine safety, government transparency, and healthcare accessibility in remote regions like Alaska.\",\n          \"Anthony van Weel, a 21-year-old software developer from Eagle River, Alaska, shared his views on vaccines, including the COVID-19 vaccine, during an interview. Van Weel, who has lived in Eagle River since he was three and has a Bachelor's degree in Computer Science from the University of Alaska Anchorage, believes that vaccines are generally safe due to stringent regulations. However, he expressed concerns about the rushed development of COVID-19 vaccines and their potential side effects, though he ultimately chose to get vaccinated due to his exposure risk in school environments.\\n\\nVan Weel observed that older individuals, including his parents, tend to be more skeptical about vaccines, often influenced by their experiences with older vaccines and misinformation spread on social media platforms like Facebook. He noted that people without higher education and those working in trades are also more likely to oppose vaccination.\\n\\nDiscussing healthcare infrastructure, Van Weel mentioned that while healthcare is accessible in Alaska, it is not affordable for many. He suggested that if he were a policymaker, he would prioritize improving healthcare infrastructure over community trust-building activities.\\n\\nRegarding vaccine hesitancy, Van Weel felt that religious leaders could be more effective in encouraging vaccinations among hesitant groups compared to other influencers like celebrities or university professors. He dismissed conspiracy theories about vaccines containing microchips as ridiculous.\\n\\nVan Weel also touched on the challenges of implementing mandatory vaccination policies, suggesting that such measures could be politically detrimental in Alaska. He believed financial incentives might be a more effective approach to increasing vaccination rates.\\n\\nThe interview concluded with Van Weel sharing his contact information for administrative purposes related to the interview.\",\n          \"The interview primarily focused on Speaker 2's views and experiences related to COVID-19 vaccines. Key points from the discussion include:\\n\\n1. **Technical Issues**: The interview began with some technical difficulties related to screen sharing and audio connectivity.\\n\\n2. **Vaccination Status and Views**: Speaker 2 confirmed having received the COVID-19 vaccine and expressed general confidence in the safety and effectiveness of vaccines. They did not report any hesitations or adverse reactions to vaccines in the past.\\n\\n3. **Source of Vaccine Information**: Speaker 2 trusts healthcare professionals and the information provided by them regarding vaccines. They have not encountered or paid attention to misinformation or conspiracy theories about COVID-19 vaccines on social media or other platforms.\\n\\n4. **Social Media and Information**: Speaker 2 uses Facebook but does not actively engage with other social media platforms. They believe that accurate vaccine information should be shared on social media to help increase vaccination rates.\\n\\n5. **Influence of Social Media**: Speaker 2 stated that their decision to get vaccinated was not influenced by social media, family, or friends. They emphasized the importance of personal choice and trust in healthcare professionals over social media content.\\n\\n6. **Community and Vaccination Efforts**: Speaker 2 suggested that schools and community efforts play a crucial role in disseminating vaccine information, especially in remote areas like Alaska. They highlighted the unique challenges faced by Alaska due to its geographical and infrastructural limitations.\\n\\n7. **Payment for Participation**: The interview concluded with a discussion about payment for participation, where Speaker 2 was unsure about how to receive the payment, showing unfamiliarity with digital payment platforms like Venmo.\\n\\nOverall, the interview sheds light on an individual's perspective on COVID-19 vaccination, trust in healthcare systems, and the role of social media in public health communication, set against the backdrop of living in a remote and sparsely populated state like Alaska.\"\n        ],\n        \"semantic_type\": \"\",\n        \"description\": \"\"\n      }\n    },\n    {\n      \"column\": \"Sentiment\",\n      \"properties\": {\n        \"dtype\": \"category\",\n        \"num_unique_values\": 4,\n        \"samples\": [\n          \"LABEL_2\",\n          \"Unknown\",\n          \"LABEL_1\"\n        ],\n        \"semantic_type\": \"\",\n        \"description\": \"\"\n      }\n    }\n  ]\n}"
            }
          },
          "metadata": {},
          "execution_count": 12
        }
      ]
    },
    {
      "cell_type": "code",
      "source": [],
      "metadata": {
        "id": "PaPRxWfCmenw"
      },
      "execution_count": null,
      "outputs": []
    }
  ]
}